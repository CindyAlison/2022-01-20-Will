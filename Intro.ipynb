{
  "nbformat": 4,
  "nbformat_minor": 0,
  "metadata": {
    "colab": {
      "name": "Intro.ipynb",
      "provenance": [],
      "collapsed_sections": [
        "0TLqO8SFpfXA",
        "1wOwAnjRpbs2",
        "0G7n8q1r1Ku0",
        "JAFKYgrpL9eY",
        "y7UvyAPmxHkV",
        "AXA4jrEOL9hM",
        "ObA9PRtQL9hT",
        "VxT_N306S85X"
      ],
      "toc_visible": true,
      "include_colab_link": true
    },
    "kernelspec": {
      "name": "python3",
      "display_name": "Python 3"
    },
    "language_info": {
      "name": "python"
    }
  },
  "cells": [
    {
      "cell_type": "markdown",
      "metadata": {
        "id": "view-in-github",
        "colab_type": "text"
      },
      "source": [
        "<a href=\"https://colab.research.google.com/github/CindyAlison/2022-01-20-Will/blob/11main/Intro.ipynb\" target=\"_parent\"><img src=\"https://colab.research.google.com/assets/colab-badge.svg\" alt=\"Open In Colab\"/></a>"
      ]
    },
    {
      "cell_type": "markdown",
      "source": [
        "# **Introduction to Programming for Design using Python 3.x**\n",
        "for AALU 2021-2022\n",
        "\n",
        "Course Tutor: William Huang (huang.sheng-yang@aaschool.ac.uk) \n",
        "\n",
        "Python Tutorial (https://docs.python.org/3/tutorial/index.html)\n",
        "\n",
        "Google Colaboratory (https://colab.research.google.com/notebooks/intro.ipynb)\n"
      ],
      "metadata": {
        "id": "u8x6ACQQ9bsV"
      }
    },
    {
      "cell_type": "markdown",
      "source": [
        "\"\"\n",
        "\n",
        "Python is an interpreted **high-level general-purpose programming language**. Its design philosophy emphasizes code readability with its use of significant indentation. Its language constructs as well as its object-oriented approach aim to help programmers write clear, logical code for small and large-scale projects.\n",
        "\n",
        "Python is dynamically-typed and garbage-collected. It supports multiple programming paradigms, including structured (particularly, procedural), object-oriented and functional programming. It is often described as a \"batteries included\" language due to its comprehensive standard library.\n",
        "\n",
        "Guido van Rossum began working on Python in the late 1980s, as a successor to the ABC programming language, and first released it in 1991 as Python 0.9.0.Python 2.0 was released in 2000 and introduced new features, such as list comprehensions and a cycle-detecting garbage collection system (in addition to reference counting). Python 3.0 was released in 2008 and was a major revision of the language that is not completely backward-compatible. Python 2 was discontinued with version 2.7.18 in 2020.\n",
        "\n",
        "Python consistently ranks as one of the most popular programming languages. \n",
        "\n",
        "\"\"\n",
        "\n",
        "(\"*Python*\" in Wikipedia, accessed on 14 January 2022)"
      ],
      "metadata": {
        "id": "cep4LZKe-nwf"
      }
    },
    {
      "cell_type": "markdown",
      "source": [
        "## 1. Basics Setups and Package Operations "
      ],
      "metadata": {
        "id": "0TLqO8SFpfXA"
      }
    },
    {
      "cell_type": "markdown",
      "source": [
        "Check Python version"
      ],
      "metadata": {
        "id": "CKT_Oxc7oDtP"
      }
    },
    {
      "cell_type": "code",
      "source": [
        "!python --version"
      ],
      "metadata": {
        "colab": {
          "base_uri": "https://localhost:8080/"
        },
        "id": "jFGxeN3-8TrV",
        "outputId": "b21f6f2e-8144-48c3-e4cd-6d2cd72d213e"
      },
      "execution_count": 2,
      "outputs": [
        {
          "output_type": "stream",
          "name": "stdout",
          "text": [
            "Python 3.7.12\n"
          ]
        }
      ]
    },
    {
      "cell_type": "markdown",
      "source": [
        "Or"
      ],
      "metadata": {
        "id": "a3aBl0o-8R8V"
      }
    },
    {
      "cell_type": "code",
      "source": [
        "from platform import python_version\n",
        "print(python_version())"
      ],
      "metadata": {
        "colab": {
          "base_uri": "https://localhost:8080/"
        },
        "id": "-GMUXmnOoB6X",
        "outputId": "b575826c-e6f4-430a-8a85-6538d0812926"
      },
      "execution_count": null,
      "outputs": [
        {
          "output_type": "stream",
          "name": "stdout",
          "text": [
            "3.7.12\n",
            "Python 3.7.12\n"
          ]
        }
      ]
    },
    {
      "cell_type": "markdown",
      "source": [
        "\n",
        "\n",
        "Use `!pip install` to install a package if it is uninstalled.\n",
        "\n",
        "Use `!pip show` to ckeck package version and other details.\n",
        "\n",
        "Use `!pip uninstall` to uninstall a package from current development environment."
      ],
      "metadata": {
        "id": "RzQPbAuMzsti"
      }
    },
    {
      "cell_type": "markdown",
      "source": [
        "Example: installing/checking/uninstalling the package *GeoPandas*"
      ],
      "metadata": {
        "id": "vQjxAta2m8dw"
      }
    },
    {
      "cell_type": "code",
      "source": [
        "!pip install geopandas"
      ],
      "metadata": {
        "id": "U0D-XBVhkFEE",
        "colab": {
          "base_uri": "https://localhost:8080/"
        },
        "outputId": "539ddf62-0878-4b00-add0-32cf9d2dc730"
      },
      "execution_count": 1,
      "outputs": [
        {
          "output_type": "stream",
          "name": "stdout",
          "text": [
            "Collecting geopandas\n",
            "  Downloading geopandas-0.10.2-py2.py3-none-any.whl (1.0 MB)\n",
            "\u001b[?25l\r\u001b[K     |▎                               | 10 kB 15.4 MB/s eta 0:00:01\r\u001b[K     |▋                               | 20 kB 19.0 MB/s eta 0:00:01\r\u001b[K     |█                               | 30 kB 20.3 MB/s eta 0:00:01\r\u001b[K     |█▎                              | 40 kB 13.3 MB/s eta 0:00:01\r\u001b[K     |█▋                              | 51 kB 6.2 MB/s eta 0:00:01\r\u001b[K     |██                              | 61 kB 5.4 MB/s eta 0:00:01\r\u001b[K     |██▎                             | 71 kB 5.5 MB/s eta 0:00:01\r\u001b[K     |██▌                             | 81 kB 6.2 MB/s eta 0:00:01\r\u001b[K     |██▉                             | 92 kB 6.1 MB/s eta 0:00:01\r\u001b[K     |███▏                            | 102 kB 5.8 MB/s eta 0:00:01\r\u001b[K     |███▌                            | 112 kB 5.8 MB/s eta 0:00:01\r\u001b[K     |███▉                            | 122 kB 5.8 MB/s eta 0:00:01\r\u001b[K     |████▏                           | 133 kB 5.8 MB/s eta 0:00:01\r\u001b[K     |████▌                           | 143 kB 5.8 MB/s eta 0:00:01\r\u001b[K     |████▊                           | 153 kB 5.8 MB/s eta 0:00:01\r\u001b[K     |█████                           | 163 kB 5.8 MB/s eta 0:00:01\r\u001b[K     |█████▍                          | 174 kB 5.8 MB/s eta 0:00:01\r\u001b[K     |█████▊                          | 184 kB 5.8 MB/s eta 0:00:01\r\u001b[K     |██████                          | 194 kB 5.8 MB/s eta 0:00:01\r\u001b[K     |██████▍                         | 204 kB 5.8 MB/s eta 0:00:01\r\u001b[K     |██████▊                         | 215 kB 5.8 MB/s eta 0:00:01\r\u001b[K     |███████                         | 225 kB 5.8 MB/s eta 0:00:01\r\u001b[K     |███████▎                        | 235 kB 5.8 MB/s eta 0:00:01\r\u001b[K     |███████▋                        | 245 kB 5.8 MB/s eta 0:00:01\r\u001b[K     |████████                        | 256 kB 5.8 MB/s eta 0:00:01\r\u001b[K     |████████▎                       | 266 kB 5.8 MB/s eta 0:00:01\r\u001b[K     |████████▋                       | 276 kB 5.8 MB/s eta 0:00:01\r\u001b[K     |█████████                       | 286 kB 5.8 MB/s eta 0:00:01\r\u001b[K     |█████████▏                      | 296 kB 5.8 MB/s eta 0:00:01\r\u001b[K     |█████████▌                      | 307 kB 5.8 MB/s eta 0:00:01\r\u001b[K     |█████████▉                      | 317 kB 5.8 MB/s eta 0:00:01\r\u001b[K     |██████████▏                     | 327 kB 5.8 MB/s eta 0:00:01\r\u001b[K     |██████████▌                     | 337 kB 5.8 MB/s eta 0:00:01\r\u001b[K     |██████████▉                     | 348 kB 5.8 MB/s eta 0:00:01\r\u001b[K     |███████████▏                    | 358 kB 5.8 MB/s eta 0:00:01\r\u001b[K     |███████████▍                    | 368 kB 5.8 MB/s eta 0:00:01\r\u001b[K     |███████████▊                    | 378 kB 5.8 MB/s eta 0:00:01\r\u001b[K     |████████████                    | 389 kB 5.8 MB/s eta 0:00:01\r\u001b[K     |████████████▍                   | 399 kB 5.8 MB/s eta 0:00:01\r\u001b[K     |████████████▊                   | 409 kB 5.8 MB/s eta 0:00:01\r\u001b[K     |█████████████                   | 419 kB 5.8 MB/s eta 0:00:01\r\u001b[K     |█████████████▍                  | 430 kB 5.8 MB/s eta 0:00:01\r\u001b[K     |█████████████▋                  | 440 kB 5.8 MB/s eta 0:00:01\r\u001b[K     |██████████████                  | 450 kB 5.8 MB/s eta 0:00:01\r\u001b[K     |██████████████▎                 | 460 kB 5.8 MB/s eta 0:00:01\r\u001b[K     |██████████████▋                 | 471 kB 5.8 MB/s eta 0:00:01\r\u001b[K     |███████████████                 | 481 kB 5.8 MB/s eta 0:00:01\r\u001b[K     |███████████████▎                | 491 kB 5.8 MB/s eta 0:00:01\r\u001b[K     |███████████████▋                | 501 kB 5.8 MB/s eta 0:00:01\r\u001b[K     |███████████████▉                | 512 kB 5.8 MB/s eta 0:00:01\r\u001b[K     |████████████████▏               | 522 kB 5.8 MB/s eta 0:00:01\r\u001b[K     |████████████████▌               | 532 kB 5.8 MB/s eta 0:00:01\r\u001b[K     |████████████████▉               | 542 kB 5.8 MB/s eta 0:00:01\r\u001b[K     |█████████████████▏              | 552 kB 5.8 MB/s eta 0:00:01\r\u001b[K     |█████████████████▌              | 563 kB 5.8 MB/s eta 0:00:01\r\u001b[K     |█████████████████▉              | 573 kB 5.8 MB/s eta 0:00:01\r\u001b[K     |██████████████████              | 583 kB 5.8 MB/s eta 0:00:01\r\u001b[K     |██████████████████▍             | 593 kB 5.8 MB/s eta 0:00:01\r\u001b[K     |██████████████████▊             | 604 kB 5.8 MB/s eta 0:00:01\r\u001b[K     |███████████████████             | 614 kB 5.8 MB/s eta 0:00:01\r\u001b[K     |███████████████████▍            | 624 kB 5.8 MB/s eta 0:00:01\r\u001b[K     |███████████████████▊            | 634 kB 5.8 MB/s eta 0:00:01\r\u001b[K     |████████████████████            | 645 kB 5.8 MB/s eta 0:00:01\r\u001b[K     |████████████████████▎           | 655 kB 5.8 MB/s eta 0:00:01\r\u001b[K     |████████████████████▋           | 665 kB 5.8 MB/s eta 0:00:01\r\u001b[K     |█████████████████████           | 675 kB 5.8 MB/s eta 0:00:01\r\u001b[K     |█████████████████████▎          | 686 kB 5.8 MB/s eta 0:00:01\r\u001b[K     |█████████████████████▋          | 696 kB 5.8 MB/s eta 0:00:01\r\u001b[K     |██████████████████████          | 706 kB 5.8 MB/s eta 0:00:01\r\u001b[K     |██████████████████████▎         | 716 kB 5.8 MB/s eta 0:00:01\r\u001b[K     |██████████████████████▋         | 727 kB 5.8 MB/s eta 0:00:01\r\u001b[K     |██████████████████████▉         | 737 kB 5.8 MB/s eta 0:00:01\r\u001b[K     |███████████████████████▏        | 747 kB 5.8 MB/s eta 0:00:01\r\u001b[K     |███████████████████████▌        | 757 kB 5.8 MB/s eta 0:00:01\r\u001b[K     |███████████████████████▉        | 768 kB 5.8 MB/s eta 0:00:01\r\u001b[K     |████████████████████████▏       | 778 kB 5.8 MB/s eta 0:00:01\r\u001b[K     |████████████████████████▌       | 788 kB 5.8 MB/s eta 0:00:01\r\u001b[K     |████████████████████████▉       | 798 kB 5.8 MB/s eta 0:00:01\r\u001b[K     |█████████████████████████       | 808 kB 5.8 MB/s eta 0:00:01\r\u001b[K     |█████████████████████████▍      | 819 kB 5.8 MB/s eta 0:00:01\r\u001b[K     |█████████████████████████▊      | 829 kB 5.8 MB/s eta 0:00:01\r\u001b[K     |██████████████████████████      | 839 kB 5.8 MB/s eta 0:00:01\r\u001b[K     |██████████████████████████▍     | 849 kB 5.8 MB/s eta 0:00:01\r\u001b[K     |██████████████████████████▊     | 860 kB 5.8 MB/s eta 0:00:01\r\u001b[K     |███████████████████████████     | 870 kB 5.8 MB/s eta 0:00:01\r\u001b[K     |███████████████████████████▎    | 880 kB 5.8 MB/s eta 0:00:01\r\u001b[K     |███████████████████████████▋    | 890 kB 5.8 MB/s eta 0:00:01\r\u001b[K     |████████████████████████████    | 901 kB 5.8 MB/s eta 0:00:01\r\u001b[K     |████████████████████████████▎   | 911 kB 5.8 MB/s eta 0:00:01\r\u001b[K     |████████████████████████████▋   | 921 kB 5.8 MB/s eta 0:00:01\r\u001b[K     |█████████████████████████████   | 931 kB 5.8 MB/s eta 0:00:01\r\u001b[K     |█████████████████████████████▎  | 942 kB 5.8 MB/s eta 0:00:01\r\u001b[K     |█████████████████████████████▌  | 952 kB 5.8 MB/s eta 0:00:01\r\u001b[K     |█████████████████████████████▉  | 962 kB 5.8 MB/s eta 0:00:01\r\u001b[K     |██████████████████████████████▏ | 972 kB 5.8 MB/s eta 0:00:01\r\u001b[K     |██████████████████████████████▌ | 983 kB 5.8 MB/s eta 0:00:01\r\u001b[K     |██████████████████████████████▉ | 993 kB 5.8 MB/s eta 0:00:01\r\u001b[K     |███████████████████████████████▏| 1.0 MB 5.8 MB/s eta 0:00:01\r\u001b[K     |███████████████████████████████▌| 1.0 MB 5.8 MB/s eta 0:00:01\r\u001b[K     |███████████████████████████████▊| 1.0 MB 5.8 MB/s eta 0:00:01\r\u001b[K     |████████████████████████████████| 1.0 MB 5.8 MB/s \n",
            "\u001b[?25hRequirement already satisfied: pandas>=0.25.0 in /usr/local/lib/python3.7/dist-packages (from geopandas) (1.1.5)\n",
            "Requirement already satisfied: shapely>=1.6 in /usr/local/lib/python3.7/dist-packages (from geopandas) (1.8.0)\n",
            "Collecting fiona>=1.8\n",
            "  Downloading Fiona-1.8.20-cp37-cp37m-manylinux1_x86_64.whl (15.4 MB)\n",
            "\u001b[K     |████████████████████████████████| 15.4 MB 47.0 MB/s \n",
            "\u001b[?25hCollecting pyproj>=2.2.0\n",
            "  Downloading pyproj-3.2.1-cp37-cp37m-manylinux2010_x86_64.whl (6.3 MB)\n",
            "\u001b[K     |████████████████████████████████| 6.3 MB 34.0 MB/s \n",
            "\u001b[?25hRequirement already satisfied: click>=4.0 in /usr/local/lib/python3.7/dist-packages (from fiona>=1.8->geopandas) (7.1.2)\n",
            "Requirement already satisfied: attrs>=17 in /usr/local/lib/python3.7/dist-packages (from fiona>=1.8->geopandas) (21.4.0)\n",
            "Collecting click-plugins>=1.0\n",
            "  Downloading click_plugins-1.1.1-py2.py3-none-any.whl (7.5 kB)\n",
            "Requirement already satisfied: setuptools in /usr/local/lib/python3.7/dist-packages (from fiona>=1.8->geopandas) (57.4.0)\n",
            "Collecting cligj>=0.5\n",
            "  Downloading cligj-0.7.2-py3-none-any.whl (7.1 kB)\n",
            "Requirement already satisfied: six>=1.7 in /usr/local/lib/python3.7/dist-packages (from fiona>=1.8->geopandas) (1.15.0)\n",
            "Collecting munch\n",
            "  Downloading munch-2.5.0-py2.py3-none-any.whl (10 kB)\n",
            "Requirement already satisfied: certifi in /usr/local/lib/python3.7/dist-packages (from fiona>=1.8->geopandas) (2021.10.8)\n",
            "Requirement already satisfied: numpy>=1.15.4 in /usr/local/lib/python3.7/dist-packages (from pandas>=0.25.0->geopandas) (1.19.5)\n",
            "Requirement already satisfied: pytz>=2017.2 in /usr/local/lib/python3.7/dist-packages (from pandas>=0.25.0->geopandas) (2018.9)\n",
            "Requirement already satisfied: python-dateutil>=2.7.3 in /usr/local/lib/python3.7/dist-packages (from pandas>=0.25.0->geopandas) (2.8.2)\n",
            "Installing collected packages: munch, cligj, click-plugins, pyproj, fiona, geopandas\n",
            "Successfully installed click-plugins-1.1.1 cligj-0.7.2 fiona-1.8.20 geopandas-0.10.2 munch-2.5.0 pyproj-3.2.1\n"
          ]
        }
      ]
    },
    {
      "cell_type": "code",
      "source": [
        "!pip show geopandas"
      ],
      "metadata": {
        "id": "8InKQ1_GmaLm"
      },
      "execution_count": null,
      "outputs": []
    },
    {
      "cell_type": "code",
      "source": [
        "!pip uninstall geopandas"
      ],
      "metadata": {
        "id": "f4buVQ-Tm07E"
      },
      "execution_count": null,
      "outputs": []
    },
    {
      "cell_type": "markdown",
      "source": [
        "List devices (computing platform)"
      ],
      "metadata": {
        "id": "jFCuwZFVoedy"
      }
    },
    {
      "cell_type": "code",
      "source": [
        "from tensorflow.python.client import device_lib\n",
        "device_lib.list_local_devices()"
      ],
      "metadata": {
        "id": "-sVxYpacoXRp"
      },
      "execution_count": null,
      "outputs": []
    },
    {
      "cell_type": "markdown",
      "source": [
        "## 2. Course Components and Packages to be Used"
      ],
      "metadata": {
        "id": "1wOwAnjRpbs2"
      }
    },
    {
      "cell_type": "markdown",
      "source": [
        "i. Platform"
      ],
      "metadata": {
        "id": "YSN_stTcyzDa"
      }
    },
    {
      "cell_type": "code",
      "execution_count": null,
      "metadata": {
        "id": "DHyytRhyuxmH"
      },
      "outputs": [],
      "source": [
        "google.colab # To work with files on Google Colaboratory (Colab)\n",
        "os # operating systems operations such as path functions"
      ]
    },
    {
      "cell_type": "markdown",
      "source": [
        "ii. Data and Math"
      ],
      "metadata": {
        "id": "nK-bhDuOy7Il"
      }
    },
    {
      "cell_type": "code",
      "source": [
        "numpy # Mathemetical (general, vertors, matrices/arrays/tensors...) calculations\n",
        "scipy # Scientific computing\n",
        "pandas # Data processing\n",
        "geopandas # Geo-spatial data processing"
      ],
      "metadata": {
        "id": "GgqpjZ3yy6fK"
      },
      "execution_count": null,
      "outputs": []
    },
    {
      "cell_type": "markdown",
      "source": [
        "iii. Data Visualisation and Image Processing"
      ],
      "metadata": {
        "id": "QI7Z5tKEzJva"
      }
    },
    {
      "cell_type": "code",
      "source": [
        "cv2 # OpenCV, for computer vision\n",
        "skimage # Image processing\n",
        "matplitlib # Usual plotting and data visialisation\n",
        "PIL # Pillow\n",
        "bokeh # ineractive visualisation"
      ],
      "metadata": {
        "id": "suHrqpkAzIPx"
      },
      "execution_count": null,
      "outputs": []
    },
    {
      "cell_type": "markdown",
      "source": [
        "iv. Machine Learning (ML)"
      ],
      "metadata": {
        "id": "SomunmOUzBmY"
      }
    },
    {
      "cell_type": "code",
      "source": [
        "sklearn # Machine learning\n",
        "tensorflow # Tensorflow 2 for deep learning and computer vision\n",
        "tensorflow.keras # high level API for tensorflow"
      ],
      "metadata": {
        "id": "PnIvEKM8zAzk"
      },
      "execution_count": null,
      "outputs": []
    },
    {
      "cell_type": "markdown",
      "source": [
        "v. GIS + ML"
      ],
      "metadata": {
        "id": "snlnXtrIzTTf"
      }
    },
    {
      "cell_type": "code",
      "source": [
        "ArcGIS # ArcGIS API for Python"
      ],
      "metadata": {
        "id": "pwR50t1jzScp"
      },
      "execution_count": null,
      "outputs": []
    },
    {
      "cell_type": "markdown",
      "source": [
        "## 3. Typical Workflow to Work on Colab"
      ],
      "metadata": {
        "id": "0G7n8q1r1Ku0"
      }
    },
    {
      "cell_type": "markdown",
      "source": [
        "1.   Setup Google Drive services (Download Google Drive for desktop: https://support.google.com/drive/answer/7329379)\n",
        "2.   Create or load notebook\n",
        "3.   Set notebook name (or make own copy if using shared notbook)\n",
        "4.   Set runtime type\n",
        "5.   Connect to 'hosted runtime'\n",
        "6.   Code\n",
        "7.   Run Scripts and debug (Stack Overflow: https://stackoverflow.com/questions/tagged/python)\n",
        "8.   Save notebook in Google Drive and/or on GitHub"
      ],
      "metadata": {
        "id": "2vcDGLjd6AZ7"
      }
    },
    {
      "cell_type": "markdown",
      "metadata": {
        "id": "JAFKYgrpL9eY"
      },
      "source": [
        "##4. Basics of Python"
      ]
    },
    {
      "cell_type": "markdown",
      "metadata": {
        "id": "NwS_hu4xL9eo"
      },
      "source": [
        "###Basic data types"
      ]
    },
    {
      "cell_type": "markdown",
      "metadata": {
        "id": "DL5sMSZ9L9eq"
      },
      "source": [
        "####Numbers"
      ]
    },
    {
      "cell_type": "markdown",
      "metadata": {
        "id": "MGS0XEWoL9er"
      },
      "source": [
        "Integers and floats work as you would expect from other languages:"
      ]
    },
    {
      "cell_type": "code",
      "execution_count": 3,
      "metadata": {
        "id": "KheDr_zDL9es",
        "colab": {
          "base_uri": "https://localhost:8080/"
        },
        "outputId": "057e6503-723f-4a7f-9812-24bd684a13b5"
      },
      "outputs": [
        {
          "output_type": "stream",
          "name": "stdout",
          "text": [
            "3 <class 'int'>\n"
          ]
        }
      ],
      "source": [
        "x = 3\n",
        "print(x, type(x))"
      ]
    },
    {
      "cell_type": "code",
      "execution_count": 4,
      "metadata": {
        "id": "sk_8DFcuL9ey",
        "colab": {
          "base_uri": "https://localhost:8080/"
        },
        "outputId": "027278c9-41a3-4024-fd25-17cbf8c1371e"
      },
      "outputs": [
        {
          "output_type": "stream",
          "name": "stdout",
          "text": [
            "4\n",
            "2\n",
            "6\n",
            "9\n"
          ]
        }
      ],
      "source": [
        "print(x + 1)   # Addition\n",
        "print(x - 1)   # Subtraction\n",
        "print(x * 2)   # Multiplication\n",
        "print(x ** 2)  # Exponentiation"
      ]
    },
    {
      "cell_type": "code",
      "execution_count": 5,
      "metadata": {
        "id": "U4Jl8K0tL9e4",
        "colab": {
          "base_uri": "https://localhost:8080/"
        },
        "outputId": "46328ad8-e18c-4300-d4b5-82333cd4aaef"
      },
      "outputs": [
        {
          "output_type": "stream",
          "name": "stdout",
          "text": [
            "4\n",
            "8\n"
          ]
        }
      ],
      "source": [
        "x += 1\n",
        "print(x)\n",
        "x *= 2\n",
        "print(x)"
      ]
    },
    {
      "cell_type": "code",
      "execution_count": 6,
      "metadata": {
        "id": "w-nZ0Sg_L9e9",
        "colab": {
          "base_uri": "https://localhost:8080/"
        },
        "outputId": "be49eb15-7d27-4d34-8b2b-e051a6e20d8e"
      },
      "outputs": [
        {
          "output_type": "stream",
          "name": "stdout",
          "text": [
            "<class 'float'>\n",
            "2.5 3.5 5.0 6.25\n"
          ]
        }
      ],
      "source": [
        "y = 2.5\n",
        "print(type(y))\n",
        "print(y, y + 1, y * 2, y ** 2)"
      ]
    },
    {
      "cell_type": "markdown",
      "metadata": {
        "id": "r2A9ApyaL9fB"
      },
      "source": [
        "Note that unlike many languages, Python does not have unary increment (x++) or decrement (x--) operators.\n",
        "\n",
        "Python also has built-in types for long integers and complex numbers; you can find all of the details in the [documentation](https://docs.python.org/3.7/library/stdtypes.html#numeric-types-int-float-long-complex)."
      ]
    },
    {
      "cell_type": "markdown",
      "metadata": {
        "id": "EqRS7qhBL9fC"
      },
      "source": [
        "####Booleans"
      ]
    },
    {
      "cell_type": "markdown",
      "metadata": {
        "id": "Nv_LIVOJL9fD"
      },
      "source": [
        "Python implements all of the usual operators for Boolean logic, but uses English words rather than symbols (`&&`, `||`, etc.):"
      ]
    },
    {
      "cell_type": "code",
      "execution_count": 7,
      "metadata": {
        "id": "RvoImwgGL9fE",
        "colab": {
          "base_uri": "https://localhost:8080/"
        },
        "outputId": "c4cf6832-963b-45c0-8b07-01ac452ced37"
      },
      "outputs": [
        {
          "output_type": "stream",
          "name": "stdout",
          "text": [
            "<class 'bool'>\n",
            "<class 'bool'>\n"
          ]
        }
      ],
      "source": [
        "t, f = True, False\n",
        "print(type(t))\n",
        "print(type(f))"
      ]
    },
    {
      "cell_type": "code",
      "execution_count": 8,
      "metadata": {
        "id": "6zYm7WzCL9fK",
        "colab": {
          "base_uri": "https://localhost:8080/"
        },
        "outputId": "99692252-8563-4362-a447-071c9a7dca8d"
      },
      "outputs": [
        {
          "output_type": "stream",
          "name": "stdout",
          "text": [
            "False\n",
            "True\n",
            "False\n",
            "True\n"
          ]
        }
      ],
      "source": [
        "print(t and f) # Logical AND;\n",
        "print(t or f)  # Logical OR;\n",
        "print(not t)   # Logical NOT;\n",
        "print(t != f)  # Logical XOR;"
      ]
    },
    {
      "cell_type": "markdown",
      "metadata": {
        "id": "UQnQWFEyL9fP"
      },
      "source": [
        "####Strings"
      ]
    },
    {
      "cell_type": "code",
      "execution_count": 9,
      "metadata": {
        "id": "AijEDtPFL9fP",
        "colab": {
          "base_uri": "https://localhost:8080/"
        },
        "outputId": "3f27b72f-e4b2-4777-fd3a-cc98dceb8a5b"
      },
      "outputs": [
        {
          "output_type": "stream",
          "name": "stdout",
          "text": [
            "hello 5\n"
          ]
        }
      ],
      "source": [
        "hello = 'hello'   # String literals can use single quotes\n",
        "world = \"world\"   # or double quotes; it does not matter\n",
        "print(hello, len(hello))"
      ]
    },
    {
      "cell_type": "code",
      "execution_count": 10,
      "metadata": {
        "id": "saDeaA7hL9fT",
        "colab": {
          "base_uri": "https://localhost:8080/"
        },
        "outputId": "7dfecbc7-7efd-44b9-8e7f-dfe8aee88047"
      },
      "outputs": [
        {
          "output_type": "stream",
          "name": "stdout",
          "text": [
            "hello world\n"
          ]
        }
      ],
      "source": [
        "hw = hello + ' ' + world  # String concatenation\n",
        "print(hw)"
      ]
    },
    {
      "cell_type": "code",
      "execution_count": 11,
      "metadata": {
        "id": "Nji1_UjYL9fY",
        "colab": {
          "base_uri": "https://localhost:8080/"
        },
        "outputId": "71680ff7-fec7-439b-8744-db88c8918b37"
      },
      "outputs": [
        {
          "output_type": "stream",
          "name": "stdout",
          "text": [
            "hello world 12\n"
          ]
        }
      ],
      "source": [
        "hw12 = '{} {} {}'.format(hello, world, 12)  # string formatting\n",
        "print(hw12)"
      ]
    },
    {
      "cell_type": "markdown",
      "metadata": {
        "id": "bUpl35bIL9fc"
      },
      "source": [
        "String objects have a bunch of useful methods; for example:"
      ]
    },
    {
      "cell_type": "code",
      "execution_count": 12,
      "metadata": {
        "id": "VOxGatlsL9fd",
        "colab": {
          "base_uri": "https://localhost:8080/"
        },
        "outputId": "19594ad3-2052-4767-f002-ca3bbfbbf51a"
      },
      "outputs": [
        {
          "output_type": "stream",
          "name": "stdout",
          "text": [
            "Hello\n",
            "HELLO\n",
            "  hello\n",
            " hello \n",
            "he(ell)(ell)o\n",
            "world\n"
          ]
        }
      ],
      "source": [
        "s = \"hello\"\n",
        "print(s.capitalize())  # Capitalise a string\n",
        "print(s.upper())       # Convert a string to uppercase; prints \"HELLO\"\n",
        "print(s.rjust(7))      # Right-justify a string, padding with spaces\n",
        "print(s.center(7))     # Center a string, padding with spaces\n",
        "print(s.replace('l', '(ell)'))  # Replace all instances of one substring with another\n",
        "print('  world '.strip())  # Strip leading and trailing whitespace"
      ]
    },
    {
      "cell_type": "markdown",
      "metadata": {
        "id": "06cayXLtL9fi"
      },
      "source": [
        "You can find a list of all string methods in the [documentation](https://docs.python.org/3.7/library/stdtypes.html#string-methods)."
      ]
    },
    {
      "cell_type": "markdown",
      "metadata": {
        "id": "UsIWOe0LL9fn"
      },
      "source": [
        "####Lists"
      ]
    },
    {
      "cell_type": "markdown",
      "metadata": {
        "id": "wzxX7rgWL9fn"
      },
      "source": [
        "A list is the Python equivalent of an array, but is resizeable and can contain elements of different types:"
      ]
    },
    {
      "cell_type": "code",
      "execution_count": 13,
      "metadata": {
        "id": "hk3A8pPcL9fp",
        "colab": {
          "base_uri": "https://localhost:8080/"
        },
        "outputId": "8e396455-afbe-47aa-e86c-d1568b2f5ae0"
      },
      "outputs": [
        {
          "output_type": "stream",
          "name": "stdout",
          "text": [
            "[3, 1, 2] 2\n",
            "2\n"
          ]
        }
      ],
      "source": [
        "xs = [3, 1, 2]   # Create a list\n",
        "print(xs, xs[2])\n",
        "print(xs[-1])     # Negative indices count from the end of the list; prints \"2\""
      ]
    },
    {
      "cell_type": "code",
      "execution_count": 14,
      "metadata": {
        "id": "YCjCy_0_L9ft",
        "colab": {
          "base_uri": "https://localhost:8080/"
        },
        "outputId": "4212527d-4442-4bed-a742-6c36a516321b"
      },
      "outputs": [
        {
          "output_type": "stream",
          "name": "stdout",
          "text": [
            "[3, 1, 'foo']\n"
          ]
        }
      ],
      "source": [
        "xs[2] = 'foo'    # Lists can contain elements of different types\n",
        "print(xs)"
      ]
    },
    {
      "cell_type": "code",
      "execution_count": 15,
      "metadata": {
        "id": "vJ0x5cF-L9fx",
        "colab": {
          "base_uri": "https://localhost:8080/"
        },
        "outputId": "6229d7a5-844f-46bf-aeba-111090e8e321"
      },
      "outputs": [
        {
          "output_type": "stream",
          "name": "stdout",
          "text": [
            "[3, 1, 'foo', 'bar']\n"
          ]
        }
      ],
      "source": [
        "xs.append('bar') # Add a new element to the end of the list\n",
        "print(xs)  "
      ]
    },
    {
      "cell_type": "code",
      "execution_count": 16,
      "metadata": {
        "id": "cxVCNRTNL9f1",
        "colab": {
          "base_uri": "https://localhost:8080/"
        },
        "outputId": "8c45da66-bad6-4f77-a481-86cb36392b86"
      },
      "outputs": [
        {
          "output_type": "stream",
          "name": "stdout",
          "text": [
            "bar [3, 1, 'foo']\n"
          ]
        }
      ],
      "source": [
        "x = xs.pop()     # Remove and return the last element of the list\n",
        "print(x, xs)"
      ]
    },
    {
      "cell_type": "markdown",
      "metadata": {
        "id": "ilyoyO34L9f4"
      },
      "source": [
        "As usual, you can find all the gory details about lists in the [documentation](https://docs.python.org/3.7/tutorial/datastructures.html#more-on-lists)."
      ]
    },
    {
      "cell_type": "markdown",
      "metadata": {
        "id": "ovahhxd_L9f5"
      },
      "source": [
        "####Slicing"
      ]
    },
    {
      "cell_type": "markdown",
      "metadata": {
        "id": "YeSYKhv9L9f6"
      },
      "source": [
        "In addition to accessing list elements one at a time, Python provides concise syntax to access sublists; this is known as slicing:"
      ]
    },
    {
      "cell_type": "code",
      "execution_count": 17,
      "metadata": {
        "colab": {
          "base_uri": "https://localhost:8080/"
        },
        "id": "ninq666bL9f6",
        "outputId": "7812a12a-224d-493a-ca2e-b8e0dc797d84"
      },
      "outputs": [
        {
          "output_type": "stream",
          "name": "stdout",
          "text": [
            "[0, 1, 2, 3, 4]\n",
            "[2, 3]\n",
            "[2, 3, 4]\n",
            "[0, 1]\n",
            "[0, 1, 2, 3, 4]\n",
            "[0, 1, 2, 3]\n",
            "[0, 1, 8, 9, 4]\n"
          ]
        }
      ],
      "source": [
        "nums = list(range(5))    # range is a built-in function that creates a list of integers\n",
        "print(nums)         # Prints \"[0, 1, 2, 3, 4]\"\n",
        "\n",
        "print(nums[2:4])    # Get a slice from index 2 to 4 (exclusive); prints \"[2, 3]\"\n",
        "print(nums[2:])     # Get a slice from index 2 to the end; prints \"[2, 3, 4]\"\n",
        "print(nums[:2])     # Get a slice from the start to index 2 (exclusive); prints \"[0, 1]\"\n",
        "print(nums[:])      # Get a slice of the whole list; prints [\"0, 1, 2, 3, 4]\"\n",
        "print(nums[:-1])    # Slice indices can be negative; prints [\"0, 1, 2, 3]\"\n",
        "nums[2:4] = [8, 9] # Assign a new sublist to a slice\n",
        "print(nums)         # Prints \"[0, 1, 8, 9, 4]\""
      ]
    },
    {
      "cell_type": "markdown",
      "metadata": {
        "id": "UONpMhF4L9f_"
      },
      "source": [
        "####Loops"
      ]
    },
    {
      "cell_type": "markdown",
      "metadata": {
        "id": "_DYz1j6QL9f_"
      },
      "source": [
        "You can loop over the elements of a list like this:"
      ]
    },
    {
      "cell_type": "code",
      "execution_count": 18,
      "metadata": {
        "id": "4cCOysfWL9gA",
        "colab": {
          "base_uri": "https://localhost:8080/"
        },
        "outputId": "1599af2c-b278-40f8-bbaf-0b5bafb6585d"
      },
      "outputs": [
        {
          "output_type": "stream",
          "name": "stdout",
          "text": [
            "cat\n",
            "dog\n",
            "monkey\n"
          ]
        }
      ],
      "source": [
        "animals = ['cat', 'dog', 'monkey']\n",
        "for animal in animals:\n",
        "    print(animal)"
      ]
    },
    {
      "cell_type": "markdown",
      "metadata": {
        "id": "KxIaQs7pL9gE"
      },
      "source": [
        "If you want access to the index of each element within the body of a loop, use the built-in `enumerate` function:"
      ]
    },
    {
      "cell_type": "code",
      "execution_count": 19,
      "metadata": {
        "id": "JjGnDluWL9gF",
        "colab": {
          "base_uri": "https://localhost:8080/"
        },
        "outputId": "39b85805-6a1c-49af-9788-629d63b3f23e"
      },
      "outputs": [
        {
          "output_type": "stream",
          "name": "stdout",
          "text": [
            "#1: cat\n",
            "#2: dog\n",
            "#3: monkey\n"
          ]
        }
      ],
      "source": [
        "animals = ['cat', 'dog', 'monkey']\n",
        "for idx, animal in enumerate(animals):\n",
        "    print('#{}: {}'.format(idx + 1, animal))"
      ]
    },
    {
      "cell_type": "markdown",
      "metadata": {
        "id": "arrLCcMyL9gK"
      },
      "source": [
        "####List comprehensions:"
      ]
    },
    {
      "cell_type": "markdown",
      "metadata": {
        "id": "5Qn2jU_pL9gL"
      },
      "source": [
        "When programming, frequently we want to transform one type of data into another. As a simple example, consider the following code that computes square numbers:"
      ]
    },
    {
      "cell_type": "code",
      "execution_count": 20,
      "metadata": {
        "id": "IVNEwoMXL9gL",
        "colab": {
          "base_uri": "https://localhost:8080/"
        },
        "outputId": "b5134c14-a592-4fa1-b46e-e6fa765a8d71"
      },
      "outputs": [
        {
          "output_type": "stream",
          "name": "stdout",
          "text": [
            "[0, 1, 4, 9, 16]\n"
          ]
        }
      ],
      "source": [
        "nums = [0, 1, 2, 3, 4]\n",
        "squares = []\n",
        "for x in nums:\n",
        "    squares.append(x ** 2)\n",
        "print(squares)"
      ]
    },
    {
      "cell_type": "markdown",
      "metadata": {
        "id": "7DmKVUFaL9gQ"
      },
      "source": [
        "You can make this code simpler using a list comprehension:"
      ]
    },
    {
      "cell_type": "code",
      "execution_count": 21,
      "metadata": {
        "id": "kZxsUfV6L9gR",
        "colab": {
          "base_uri": "https://localhost:8080/"
        },
        "outputId": "7453f0db-2b64-4f0e-d62f-f264c3419179"
      },
      "outputs": [
        {
          "output_type": "stream",
          "name": "stdout",
          "text": [
            "[0, 1, 4, 9, 16]\n"
          ]
        }
      ],
      "source": [
        "nums = [0, 1, 2, 3, 4]\n",
        "squares = [x ** 2 for x in nums]\n",
        "print(squares)"
      ]
    },
    {
      "cell_type": "markdown",
      "metadata": {
        "id": "-D8ARK7tL9gV"
      },
      "source": [
        "List comprehensions can also contain conditions:"
      ]
    },
    {
      "cell_type": "code",
      "execution_count": 22,
      "metadata": {
        "id": "yUtgOyyYL9gV",
        "colab": {
          "base_uri": "https://localhost:8080/"
        },
        "outputId": "53a18df9-3aea-4930-f1e8-dc595e1aaa6e"
      },
      "outputs": [
        {
          "output_type": "stream",
          "name": "stdout",
          "text": [
            "[0, 4, 16]\n"
          ]
        }
      ],
      "source": [
        "nums = [0, 1, 2, 3, 4]\n",
        "even_squares = [x ** 2 for x in nums if x % 2 == 0]\n",
        "print(even_squares)"
      ]
    },
    {
      "cell_type": "markdown",
      "metadata": {
        "id": "H8xsUEFpL9gZ"
      },
      "source": [
        "####Dictionaries"
      ]
    },
    {
      "cell_type": "markdown",
      "metadata": {
        "id": "kkjAGMAJL9ga"
      },
      "source": [
        "A dictionary stores (key, value) pairs, similar to a `Map` in Java or an object in Javascript. You can use it like this:"
      ]
    },
    {
      "cell_type": "code",
      "execution_count": 23,
      "metadata": {
        "id": "XBYI1MrYL9gb",
        "colab": {
          "base_uri": "https://localhost:8080/"
        },
        "outputId": "ca1633fc-b205-43c7-d617-cc946eef763b"
      },
      "outputs": [
        {
          "output_type": "stream",
          "name": "stdout",
          "text": [
            "cute\n",
            "True\n"
          ]
        }
      ],
      "source": [
        "pets = {'cat': 'cute', 'dog': 'furry'}  # Create a new dictionary with some data\n",
        "print(pets['cat'])       # Get an entry from a dictionary; prints \"cute\"\n",
        "print('cat' in pets)     # Check if a dictionary has a given key; prints \"True\""
      ]
    },
    {
      "cell_type": "code",
      "execution_count": 24,
      "metadata": {
        "id": "pS7e-G-HL9gf",
        "colab": {
          "base_uri": "https://localhost:8080/"
        },
        "outputId": "e9837192-254e-4e19-cec5-cb72e9686c4b"
      },
      "outputs": [
        {
          "output_type": "stream",
          "name": "stdout",
          "text": [
            "wet\n"
          ]
        }
      ],
      "source": [
        "pets['fish'] = 'wet'    # Set an entry in a dictionary\n",
        "print(pets['fish'])      # Prints \"wet\""
      ]
    },
    {
      "cell_type": "code",
      "execution_count": 25,
      "metadata": {
        "id": "tFY065ItL9gi",
        "colab": {
          "base_uri": "https://localhost:8080/",
          "height": 171
        },
        "outputId": "1fc253f8-c4eb-43ce-9d62-89b186d4240c"
      },
      "outputs": [
        {
          "output_type": "error",
          "ename": "KeyError",
          "evalue": "ignored",
          "traceback": [
            "\u001b[0;31m---------------------------------------------------------------------------\u001b[0m",
            "\u001b[0;31mKeyError\u001b[0m                                  Traceback (most recent call last)",
            "\u001b[0;32m<ipython-input-25-1f9ebd330ec7>\u001b[0m in \u001b[0;36m<module>\u001b[0;34m()\u001b[0m\n\u001b[0;32m----> 1\u001b[0;31m \u001b[0mprint\u001b[0m\u001b[0;34m(\u001b[0m\u001b[0mpets\u001b[0m\u001b[0;34m[\u001b[0m\u001b[0;34m'monkey'\u001b[0m\u001b[0;34m]\u001b[0m\u001b[0;34m)\u001b[0m  \u001b[0;31m# KeyError: 'monkey' not a key of d\u001b[0m\u001b[0;34m\u001b[0m\u001b[0;34m\u001b[0m\u001b[0m\n\u001b[0m",
            "\u001b[0;31mKeyError\u001b[0m: 'monkey'"
          ]
        }
      ],
      "source": [
        "print(pets['monkey'])  # KeyError: 'monkey' not a key of d"
      ]
    },
    {
      "cell_type": "code",
      "execution_count": null,
      "metadata": {
        "id": "8TjbEWqML9gl"
      },
      "outputs": [],
      "source": [
        "print(pets.get('monkey', 'N/A'))  # Get an element with a default; prints \"N/A\"\n",
        "print(pets.get('fish', 'N/A'))    # Get an element with a default; prints \"wet\""
      ]
    },
    {
      "cell_type": "code",
      "execution_count": null,
      "metadata": {
        "id": "0EItdNBJL9go"
      },
      "outputs": [],
      "source": [
        "del pets['fish']        # Remove an element from a dictionary\n",
        "print(pets.get('fish', 'N/A')) # \"fish\" is no longer a key; prints \"N/A\""
      ]
    },
    {
      "cell_type": "markdown",
      "metadata": {
        "id": "wqm4dRZNL9gr"
      },
      "source": [
        "You can find all you need to know about dictionaries in the [documentation](https://docs.python.org/2/library/stdtypes.html#dict)."
      ]
    },
    {
      "cell_type": "markdown",
      "metadata": {
        "id": "IxwEqHlGL9gr"
      },
      "source": [
        "It is easy to iterate over the keys in a dictionary:"
      ]
    },
    {
      "cell_type": "code",
      "execution_count": null,
      "metadata": {
        "id": "rYfz7ZKNL9gs"
      },
      "outputs": [],
      "source": [
        "pets = {'chicken': 2, 'cat': 4, 'spider': 8}\n",
        "for animal, legs in pets.items():\n",
        "    print('A {} has {} legs'.format(animal, legs))"
      ]
    },
    {
      "cell_type": "markdown",
      "metadata": {
        "id": "17sxiOpzL9gz"
      },
      "source": [
        "Dictionary comprehensions: These are similar to list comprehensions, but allow you to easily construct dictionaries. For example:"
      ]
    },
    {
      "cell_type": "code",
      "execution_count": null,
      "metadata": {
        "id": "8PB07imLL9gz"
      },
      "outputs": [],
      "source": [
        "nums = [0, 1, 2, 3, 4]\n",
        "even_num_to_square = {x: x ** 2 for x in nums if x % 2 == 0}\n",
        "print(even_num_to_square)"
      ]
    },
    {
      "cell_type": "markdown",
      "metadata": {
        "id": "V9MHfUdvL9g2"
      },
      "source": [
        "####Sets"
      ]
    },
    {
      "cell_type": "markdown",
      "metadata": {
        "id": "Rpm4UtNpL9g2"
      },
      "source": [
        "A set is an unordered collection of distinct elements. As a simple example, consider the following:"
      ]
    },
    {
      "cell_type": "code",
      "execution_count": null,
      "metadata": {
        "id": "MmyaniLsL9g2"
      },
      "outputs": [],
      "source": [
        "animals = {'cat', 'dog'}\n",
        "print('cat' in animals)   # Check if an element is in a set; prints \"True\"\n",
        "print('fish' in animals)  # prints \"False\"\n"
      ]
    },
    {
      "cell_type": "code",
      "execution_count": null,
      "metadata": {
        "id": "ElJEyK86L9g6"
      },
      "outputs": [],
      "source": [
        "animals.add('fish')      # Add an element to a set\n",
        "print('fish' in animals)\n",
        "print(len(animals))       # Number of elements in a set;"
      ]
    },
    {
      "cell_type": "code",
      "execution_count": null,
      "metadata": {
        "id": "5uGmrxdPL9g9"
      },
      "outputs": [],
      "source": [
        "animals.add('cat')       # Adding an element that is already in the set does nothing\n",
        "print(len(animals))       \n",
        "animals.remove('cat')    # Remove an element from a set\n",
        "print(len(animals))       "
      ]
    },
    {
      "cell_type": "markdown",
      "metadata": {
        "id": "zk2DbvLKL9g_"
      },
      "source": [
        "_Loops_: Iterating over a set has the same syntax as iterating over a list; however since sets are unordered, you cannot make assumptions about the order in which you visit the elements of the set:"
      ]
    },
    {
      "cell_type": "code",
      "execution_count": null,
      "metadata": {
        "id": "K47KYNGyL9hA"
      },
      "outputs": [],
      "source": [
        "animals = {'cat', 'dog', 'fish'}\n",
        "for idx, animal in enumerate(animals):\n",
        "    print('#{}: {}'.format(idx + 1, animal))"
      ]
    },
    {
      "cell_type": "markdown",
      "metadata": {
        "id": "puq4S8buL9hC"
      },
      "source": [
        "Set comprehensions: Like lists and dictionaries, we can easily construct sets using set comprehensions:"
      ]
    },
    {
      "cell_type": "code",
      "execution_count": null,
      "metadata": {
        "id": "iw7k90k3L9hC"
      },
      "outputs": [],
      "source": [
        "from math import sqrt\n",
        "print({int(sqrt(x)) for x in range(30)})"
      ]
    },
    {
      "cell_type": "markdown",
      "metadata": {
        "id": "qPsHSKB1L9hF"
      },
      "source": [
        "####Tuples"
      ]
    },
    {
      "cell_type": "markdown",
      "metadata": {
        "id": "kucc0LKVL9hG"
      },
      "source": [
        "A tuple is an (immutable) ordered list of values. A tuple is in many ways similar to a list; one of the most important differences is that tuples can be used as keys in dictionaries and as elements of sets, while lists cannot. Here is a trivial example:"
      ]
    },
    {
      "cell_type": "code",
      "execution_count": null,
      "metadata": {
        "id": "9wHUyTKxL9hH"
      },
      "outputs": [],
      "source": [
        "d = {(x, x + 1): x for x in range(10)}  # Create a dictionary with tuple keys\n",
        "t = (5, 6)       # Create a tuple\n",
        "print(type(t))\n",
        "print(d[t])       \n",
        "print(d[(1, 2)])"
      ]
    },
    {
      "cell_type": "markdown",
      "source": [
        "## 5. Object-Oriented Programming (OOP)"
      ],
      "metadata": {
        "id": "y7UvyAPmxHkV"
      }
    },
    {
      "cell_type": "markdown",
      "metadata": {
        "id": "AXA4jrEOL9hM"
      },
      "source": [
        "###Functions/Methods"
      ]
    },
    {
      "cell_type": "markdown",
      "metadata": {
        "id": "WaRms-QfL9hN"
      },
      "source": [
        "Python functions are defined using the `def` keyword. For example:"
      ]
    },
    {
      "cell_type": "code",
      "execution_count": null,
      "metadata": {
        "id": "kiMDUr58L9hN"
      },
      "outputs": [],
      "source": [
        "def sign(x):\n",
        "    if x > 0:\n",
        "        return 'positive'\n",
        "    elif x < 0:\n",
        "        return 'negative'\n",
        "    else:\n",
        "        return 'zero'\n",
        "\n",
        "for x in [-1, 0, 1]:\n",
        "    print(sign(x))"
      ]
    },
    {
      "cell_type": "markdown",
      "metadata": {
        "id": "U-QJFt8TL9hR"
      },
      "source": [
        "We will often define functions to take optional keyword arguments, like this:"
      ]
    },
    {
      "cell_type": "code",
      "execution_count": null,
      "metadata": {
        "id": "PfsZ3DazL9hR"
      },
      "outputs": [],
      "source": [
        "def hello(name, loud=False):\n",
        "    if loud:\n",
        "        print('HELLO, {}'.format(name.upper()))\n",
        "    else:\n",
        "        print('Hello, {}!'.format(name))\n",
        "\n",
        "hello('Alexa')\n",
        "hello('Siri', loud=True)"
      ]
    },
    {
      "cell_type": "markdown",
      "metadata": {
        "id": "ObA9PRtQL9hT"
      },
      "source": [
        "###Classes"
      ]
    },
    {
      "cell_type": "markdown",
      "metadata": {
        "id": "hAzL_lTkL9hU"
      },
      "source": [
        "The syntax for defining classes in Python is straightforward:"
      ]
    },
    {
      "cell_type": "code",
      "execution_count": null,
      "metadata": {
        "id": "RWdbaGigL9hU"
      },
      "outputs": [],
      "source": [
        "class Bot:\n",
        "\n",
        "    # Constructor\n",
        "    def __init__(self, name):\n",
        "        self.name = name  # Create an instance variable\n",
        "\n",
        "    # Instance method\n",
        "    def greet(self, loud=False):\n",
        "        if loud:\n",
        "          print('HELLO, {}'.format(self.name.upper()))\n",
        "        else:\n",
        "          print('Hello, {}!'.format(self.name))\n",
        "\n",
        "b = Bot('Alexa')  # Construct an instance of the Bot class\n",
        "b.greet()            # Call an instance method; prints \"Hello, Fred\"\n",
        "b.greet(loud=True)   # Call an instance method; prints \"HELLO, FRED!\""
      ]
    },
    {
      "cell_type": "markdown",
      "source": [
        "## 6. Loading Data from Google Drive"
      ],
      "metadata": {
        "id": "VxT_N306S85X"
      }
    },
    {
      "cell_type": "code",
      "source": [
        "from google.colab import drive\n",
        "import os "
      ],
      "metadata": {
        "id": "r0biOzuHTg3_"
      },
      "execution_count": null,
      "outputs": []
    },
    {
      "cell_type": "code",
      "source": [
        "# Place the dataset in your Google Drive \n",
        "drive.mount(\"/content/drive\")\n",
        "\n",
        "path = \"/content/drive/My Drive/ml_test_20220105/train\"\n",
        "\"\"\"\n",
        "folder_name = 'ml_test_20220105' #@param{type:\"string\"}\n",
        "path = \"/content/drive/My Drive/\" + folder_name \n",
        "\"\"\"\n",
        "\n",
        "os.chdir(path) # change the current working directory to the given path\n",
        "os.listdir(path) # list all the entries in the directory given by path"
      ],
      "metadata": {
        "id": "wnLH36mwS6u3"
      },
      "execution_count": null,
      "outputs": []
    },
    {
      "cell_type": "code",
      "source": [
        "from matplotlib import pyplot as plt\n",
        "from skimage.io import imread, imshow\n",
        "\n",
        "img = imread(path + \"/0.jpg\")\n",
        "plt.axis('off')\n",
        "imshow(img)"
      ],
      "metadata": {
        "id": "znWQUYQUVhWc"
      },
      "execution_count": null,
      "outputs": []
    }
  ]
}